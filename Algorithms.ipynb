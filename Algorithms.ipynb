{
  "nbformat": 4,
  "nbformat_minor": 0,
  "metadata": {
    "colab": {
      "provenance": [],
      "authorship_tag": "ABX9TyNTKFqZarEovs/KmJnPfsMx",
      "include_colab_link": true
    },
    "kernelspec": {
      "name": "python3",
      "display_name": "Python 3"
    },
    "language_info": {
      "name": "python"
    }
  },
  "cells": [
    {
      "cell_type": "markdown",
      "metadata": {
        "id": "view-in-github",
        "colab_type": "text"
      },
      "source": [
        "<a href=\"https://colab.research.google.com/github/Ayavie/Algorithmic-coding/blob/main/Algorithms.ipynb\" target=\"_parent\"><img src=\"https://colab.research.google.com/assets/colab-badge.svg\" alt=\"Open In Colab\"/></a>"
      ]
    },
    {
      "cell_type": "markdown",
      "source": [
        "## Binary Search Tree"
      ],
      "metadata": {
        "id": "Fic4GcGWMiaV"
      }
    },
    {
      "cell_type": "markdown",
      "source": [
        "### Traversal Algorithms"
      ],
      "metadata": {
        "id": "Sz0Jv4nwMmXy"
      }
    },
    {
      "cell_type": "code",
      "source": [
        "class Node:\n",
        "  def __init__(self,key):\n",
        "    self.left=None\n",
        "    self.right=None\n",
        "    self.val=key\n",
        "\n",
        "  \n",
        "if __name__ == \"__main__\":\n",
        "  root = Node(1)\n",
        "  root.left = Node(2)\n",
        "  root.right = Node(3)\n",
        "  root.left.left = Node(4)\n",
        "  root.left.right = Node(5)"
      ],
      "metadata": {
        "id": "I4c_y5bZy7q3"
      },
      "execution_count": 5,
      "outputs": []
    },
    {
      "cell_type": "code",
      "source": [
        "def print_preorder(root):\n",
        "    if root is None:\n",
        "      return \n",
        "    print(root.val, end=\" \")\n",
        "    print_preorder(root.left)\n",
        "    print_preorder(root.right)\n",
        "\n",
        "print_preorder(root)"
      ],
      "metadata": {
        "colab": {
          "base_uri": "https://localhost:8080/"
        },
        "id": "ta7lyWimMhi_",
        "outputId": "65addf44-0dbc-43fc-b4c1-80ea422a24b3"
      },
      "execution_count": null,
      "outputs": [
        {
          "output_type": "stream",
          "name": "stdout",
          "text": [
            "1 2 4 5 3 "
          ]
        }
      ]
    },
    {
      "cell_type": "code",
      "source": [
        "def print_inorder(root):\n",
        "  if root:\n",
        "    print_inorder(root.left)\n",
        "    print(root.val, end=\" \")\n",
        "    print_inorder(root.right)\n",
        "\n",
        "print_inorder(root)"
      ],
      "metadata": {
        "colab": {
          "base_uri": "https://localhost:8080/"
        },
        "id": "5KLEArDAOu6K",
        "outputId": "7ad20100-4dd0-41f1-a024-1ecfdd5feb04"
      },
      "execution_count": null,
      "outputs": [
        {
          "output_type": "stream",
          "name": "stdout",
          "text": [
            "4 2 5 1 3 "
          ]
        }
      ]
    },
    {
      "cell_type": "code",
      "source": [
        "def print_postorder(root):\n",
        "  if root:\n",
        "    print_postorder(root.left)\n",
        "    print_postorder(root.right)\n",
        "    print(root.val, end=\" \")\n",
        "print_postorder(root)"
      ],
      "metadata": {
        "colab": {
          "base_uri": "https://localhost:8080/"
        },
        "id": "926S5Sq-VyLQ",
        "outputId": "0ab38164-44ca-4254-cd0c-02c758c510da"
      },
      "execution_count": 9,
      "outputs": [
        {
          "output_type": "stream",
          "name": "stdout",
          "text": [
            "4 5 2 3 1 "
          ]
        }
      ]
    },
    {
      "cell_type": "code",
      "source": [
        "def print_level_order(root):\n",
        "    #Write your code here\n",
        "    if root:\n",
        "      qu = []\n",
        "      qu.append(root)\n",
        "    \n",
        "      while len(qu) !=0:\n",
        "          p = qu.pop(0)\n",
        "          print(p.val, end=' ')\n",
        "\n",
        "          if p.left:\n",
        "              qu.append(p.left)\n",
        "            \n",
        "          if p.right:\n",
        "              qu.append(p.right)\n",
        "              \n",
        "print_level_order(root)"
      ],
      "metadata": {
        "colab": {
          "base_uri": "https://localhost:8080/"
        },
        "id": "OE8OL35ft2aw",
        "outputId": "5d1498ef-5733-4acb-fe46-79ea860f215f"
      },
      "execution_count": 7,
      "outputs": [
        {
          "output_type": "stream",
          "name": "stdout",
          "text": [
            "1 2 3 4 5 "
          ]
        }
      ]
    },
    {
      "cell_type": "markdown",
      "source": [
        "###Problems"
      ],
      "metadata": {
        "id": "Kbv1Ym9978QT"
      }
    },
    {
      "cell_type": "markdown",
      "source": [
        "**Maximum Depth of Binary**\n",
        "\n",
        "Given the root of a binary tree, return its maximum depth.\n",
        "\n",
        "A binary tree's maximum depth is the number of nodes along the longest path from the root node down to the farthest leaf node."
      ],
      "metadata": {
        "id": "Lg_WlK8W8HD0"
      }
    },
    {
      "cell_type": "code",
      "source": [
        "class TreeNode:\n",
        "    def __init__(self, val=0, left=None, right=None):\n",
        "        self.val = val\n",
        "        self.left = left\n",
        "        self.right = right"
      ],
      "metadata": {
        "id": "yzvV9oNS_8BB"
      },
      "execution_count": 1,
      "outputs": []
    },
    {
      "cell_type": "code",
      "source": [
        "class Solution:\n",
        "    def maxDepth(self, root) -> int:\n",
        "        if not root:\n",
        "            return 0\n",
        "        \n",
        "        return (1 + max(self.maxDepth(root.left),self.maxDepth(root.right)))"
      ],
      "metadata": {
        "id": "FB788bjn8FN0"
      },
      "execution_count": null,
      "outputs": []
    },
    {
      "cell_type": "markdown",
      "source": [
        "**Symmetric Tree**\n",
        "\n",
        "Given the root of a binary tree, check whether it is a mirror of itself (i.e., symmetric around its center)."
      ],
      "metadata": {
        "id": "wj7JJD5m__qT"
      }
    },
    {
      "cell_type": "code",
      "source": [
        "class Solution:\n",
        "    def isSymmetric(self, root) -> bool:\n",
        "        return self.compare_sym(root,root)\n",
        "    \n",
        "    def compare_sym(self, l,r):\n",
        "        if l is None and r is None:\n",
        "            return True\n",
        "        if l is None or r is None:\n",
        "            return False\n",
        "        \n",
        "        return (r.val==l.val) and self.compare_sym(r.right,l.left) and self.compare_sym(r.left,l.right)\n",
        "             \n",
        "        \n",
        "    "
      ],
      "metadata": {
        "id": "PcCxZbphAAVR"
      },
      "execution_count": 3,
      "outputs": []
    },
    {
      "cell_type": "markdown",
      "source": [
        "**Minimum Depth of Binary Tree**\n",
        "\n",
        "Given a binary tree, find its minimum depth.\n",
        "\n",
        "The minimum depth is the number of nodes along the shortest path from the root node down to the nearest leaf node."
      ],
      "metadata": {
        "id": "5n-rGYhLMRPA"
      }
    },
    {
      "cell_type": "code",
      "source": [
        "class Solution:\n",
        "    def minDepth(self, root) -> int:\n",
        "        if not root:\n",
        "            return 0\n",
        "        if root.left is None and root.right is None:\n",
        "            return 1\n",
        "        if root.left is None:\n",
        "            return self.minDepth(root.right)+1\n",
        "        if root.right is None:\n",
        "            return self.minDepth(root.left)+1\n",
        "        return min(self.minDepth(root.left),self.minDepth(root.right))+1"
      ],
      "metadata": {
        "id": "UlCJlGQWMRuW"
      },
      "execution_count": 10,
      "outputs": []
    },
    {
      "cell_type": "markdown",
      "source": [
        "## Searching Algorithms\n"
      ],
      "metadata": {
        "id": "eBNDk0AEwpPV"
      }
    },
    {
      "cell_type": "code",
      "execution_count": null,
      "metadata": {
        "colab": {
          "base_uri": "https://localhost:8080/"
        },
        "id": "tW5uS8aLTKpT",
        "outputId": "b9dbc633-5182-4139-8588-e15078e70d56"
      },
      "outputs": [
        {
          "output_type": "stream",
          "name": "stdout",
          "text": [
            "5\n",
            "5\n"
          ]
        }
      ],
      "source": [
        "def binary_search(arr,item):\n",
        "  arr.sort()\n",
        "  l_index=0\n",
        "  r_index=len(arr)-1\n",
        "\n",
        "  while l_index <= r_index:\n",
        "    mid = l_index + ( r_index - l_index) // 2\n",
        "    mid_value=arr[mid]\n",
        "    if mid_value==item:\n",
        "      return mid\n",
        "    elif item < mid_value:\n",
        "      r_index=mid-1\n",
        "    else:\n",
        "      l_index=mid+1\n",
        "\n",
        "  return None\n",
        "\n",
        "arr=[1,2,8,6,5,4,9,14,56,86]\n",
        "arr.sort()\n",
        "print(arr.index(8))\n",
        "print(binary_search(arr,8))\n",
        "\n",
        "\n"
      ]
    },
    {
      "cell_type": "code",
      "source": [],
      "metadata": {
        "id": "dsjUSPGz4bkT"
      },
      "execution_count": null,
      "outputs": []
    }
  ]
}