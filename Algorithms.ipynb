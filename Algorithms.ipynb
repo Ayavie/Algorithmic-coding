{
  "cells": [
    {
      "cell_type": "markdown",
      "metadata": {
        "id": "view-in-github",
        "colab_type": "text"
      },
      "source": [
        "<a href=\"https://colab.research.google.com/github/Ayavie/Algorithmic-coding/blob/main/Algorithms.ipynb\" target=\"_parent\"><img src=\"https://colab.research.google.com/assets/colab-badge.svg\" alt=\"Open In Colab\"/></a>"
      ]
    },
    {
      "cell_type": "markdown",
      "metadata": {
        "id": "Fic4GcGWMiaV"
      },
      "source": [
        "## Binary Search Tree"
      ]
    },
    {
      "cell_type": "markdown",
      "metadata": {
        "id": "Sz0Jv4nwMmXy"
      },
      "source": [
        "### Traversal Algorithms"
      ]
    },
    {
      "cell_type": "code",
      "execution_count": null,
      "metadata": {
        "id": "I4c_y5bZy7q3"
      },
      "outputs": [],
      "source": [
        "class Node:\n",
        "  def __init__(self,key):\n",
        "    self.left=None\n",
        "    self.right=None\n",
        "    self.val=key\n",
        "\n",
        "  \n",
        "if __name__ == \"__main__\":\n",
        "  root = Node(1)\n",
        "  root.left = Node(2)\n",
        "  root.right = Node(3)\n",
        "  root.left.left = Node(4)\n",
        "  root.left.right = Node(5)"
      ]
    },
    {
      "cell_type": "code",
      "execution_count": null,
      "metadata": {
        "colab": {
          "base_uri": "https://localhost:8080/"
        },
        "id": "ta7lyWimMhi_",
        "outputId": "65addf44-0dbc-43fc-b4c1-80ea422a24b3"
      },
      "outputs": [
        {
          "name": "stdout",
          "output_type": "stream",
          "text": [
            "1 2 4 5 3 "
          ]
        }
      ],
      "source": [
        "def print_preorder(root):\n",
        "    if root is None:\n",
        "      return \n",
        "    print(root.val, end=\" \")\n",
        "    print_preorder(root.left)\n",
        "    print_preorder(root.right)\n",
        "\n",
        "print_preorder(root)"
      ]
    },
    {
      "cell_type": "code",
      "execution_count": null,
      "metadata": {
        "colab": {
          "base_uri": "https://localhost:8080/"
        },
        "id": "5KLEArDAOu6K",
        "outputId": "7ad20100-4dd0-41f1-a024-1ecfdd5feb04"
      },
      "outputs": [
        {
          "name": "stdout",
          "output_type": "stream",
          "text": [
            "4 2 5 1 3 "
          ]
        }
      ],
      "source": [
        "def print_inorder(root):\n",
        "  if root:\n",
        "    print_inorder(root.left)\n",
        "    print(root.val, end=\" \")\n",
        "    print_inorder(root.right)\n",
        "\n",
        "print_inorder(root)"
      ]
    },
    {
      "cell_type": "code",
      "execution_count": null,
      "metadata": {
        "colab": {
          "base_uri": "https://localhost:8080/"
        },
        "id": "926S5Sq-VyLQ",
        "outputId": "0ab38164-44ca-4254-cd0c-02c758c510da"
      },
      "outputs": [
        {
          "name": "stdout",
          "output_type": "stream",
          "text": [
            "4 5 2 3 1 "
          ]
        }
      ],
      "source": [
        "def print_postorder(root):\n",
        "  if root:\n",
        "    print_postorder(root.left)\n",
        "    print_postorder(root.right)\n",
        "    print(root.val, end=\" \")\n",
        "print_postorder(root)"
      ]
    },
    {
      "cell_type": "code",
      "execution_count": null,
      "metadata": {
        "colab": {
          "base_uri": "https://localhost:8080/"
        },
        "id": "OE8OL35ft2aw",
        "outputId": "5d1498ef-5733-4acb-fe46-79ea860f215f"
      },
      "outputs": [
        {
          "name": "stdout",
          "output_type": "stream",
          "text": [
            "1 2 3 4 5 "
          ]
        }
      ],
      "source": [
        "def print_level_order(root):\n",
        "    #Write your code here\n",
        "    if root:\n",
        "      qu = []\n",
        "      qu.append(root)\n",
        "    \n",
        "      while len(qu) !=0:\n",
        "          p = qu.pop(0)\n",
        "          print(p.val, end=' ')\n",
        "\n",
        "          if p.left:\n",
        "              qu.append(p.left)\n",
        "            \n",
        "          if p.right:\n",
        "              qu.append(p.right)\n",
        "              \n",
        "print_level_order(root)"
      ]
    },
    {
      "cell_type": "markdown",
      "metadata": {
        "id": "Kbv1Ym9978QT"
      },
      "source": [
        "###Problems"
      ]
    },
    {
      "cell_type": "markdown",
      "metadata": {
        "id": "Lg_WlK8W8HD0"
      },
      "source": [
        "**Maximum Depth of Binary**\n",
        "\n",
        "Given the root of a binary tree, return its maximum depth.\n",
        "\n",
        "A binary tree's maximum depth is the number of nodes along the longest path from the root node down to the farthest leaf node."
      ]
    },
    {
      "cell_type": "code",
      "execution_count": null,
      "metadata": {
        "id": "yzvV9oNS_8BB"
      },
      "outputs": [],
      "source": [
        "class TreeNode:\n",
        "    def __init__(self, val=0, left=None, right=None):\n",
        "        self.val = val\n",
        "        self.left = left\n",
        "        self.right = right"
      ]
    },
    {
      "cell_type": "code",
      "execution_count": null,
      "metadata": {
        "id": "FB788bjn8FN0"
      },
      "outputs": [],
      "source": [
        "class Solution:\n",
        "    def maxDepth(self, root) -> int:\n",
        "        if not root:\n",
        "            return 0\n",
        "        \n",
        "        return (1 + max(self.maxDepth(root.left),self.maxDepth(root.right)))"
      ]
    },
    {
      "cell_type": "markdown",
      "metadata": {
        "id": "5n-rGYhLMRPA"
      },
      "source": [
        "**Minimum Depth of Binary Tree**\n",
        "\n",
        "Given a binary tree, find its minimum depth.\n",
        "\n",
        "The minimum depth is the number of nodes along the shortest path from the root node down to the nearest leaf node."
      ]
    },
    {
      "cell_type": "code",
      "execution_count": null,
      "metadata": {
        "id": "UlCJlGQWMRuW"
      },
      "outputs": [],
      "source": [
        "class Solution:\n",
        "    def minDepth(self, root) -> int:\n",
        "        if not root:\n",
        "            return 0\n",
        "        if root.left is None and root.right is None:\n",
        "            return 1\n",
        "        if root.left is None:\n",
        "            return self.minDepth(root.right)+1\n",
        "        if root.right is None:\n",
        "            return self.minDepth(root.left)+1\n",
        "        return min(self.minDepth(root.left),self.minDepth(root.right))+1"
      ]
    },
    {
      "cell_type": "markdown",
      "metadata": {
        "id": "wj7JJD5m__qT"
      },
      "source": [
        "**Symmetric Tree**\n",
        "\n",
        "Given the root of a binary tree, check whether it is a mirror of itself (i.e., symmetric around its center)."
      ]
    },
    {
      "cell_type": "code",
      "execution_count": null,
      "metadata": {
        "id": "PcCxZbphAAVR"
      },
      "outputs": [],
      "source": [
        "class Solution:\n",
        "    def isSymmetric(self, root) -> bool:\n",
        "        return self.compare_sym(root,root)\n",
        "    \n",
        "    def compare_sym(self, l,r):\n",
        "        if l is None and r is None:\n",
        "            return True\n",
        "        if l is None or r is None:\n",
        "            return False\n",
        "        \n",
        "        return (r.val==l.val) and self.compare_sym(r.right,l.left) and self.compare_sym(r.left,l.right)\n",
        "             \n",
        "        \n",
        "    "
      ]
    },
    {
      "cell_type": "markdown",
      "source": [
        "**Insert into a Binary Search Tree**\n"
      ],
      "metadata": {
        "id": "LfVcvz-uI9-e"
      }
    },
    {
      "cell_type": "code",
      "execution_count": null,
      "metadata": {
        "colab": {
          "background_save": true
        },
        "id": "yAKR0Nraz3c1"
      },
      "outputs": [],
      "source": [
        "class Node:\n",
        "    def __init__(self, info):\n",
        "        self.info = info  \n",
        "        self.left = None  \n",
        "        self.right = None \n",
        "        self.level = None \n",
        "\n",
        "    def __str__(self):\n",
        "        return str(self.info) \n",
        "\n",
        "def preOrder(root):\n",
        "    if root == None:\n",
        "        return\n",
        "    print (root.info, end=\" \")\n",
        "    preOrder(root.left)\n",
        "    preOrder(root.right)\n",
        "    \n"
      ]
    },
    {
      "cell_type": "code",
      "execution_count": null,
      "metadata": {
        "id": "NhSzFqxVxZxL"
      },
      "outputs": [],
      "source": [
        "class BinarySearchTree:\n",
        "    def __init__(self): \n",
        "        self.root = None\n",
        "\n",
        "    def insert(self,val):\n",
        "      if self.root is None:\n",
        "        self.root = Node(val)\n",
        "      else:\n",
        "        current = self.root\n",
        "        while True:\n",
        "          if val < current.info:\n",
        "            if current.left is None:\n",
        "              current.left=Node(val)\n",
        "              break\n",
        "            else:\n",
        "              current=current.left\n",
        "\n",
        "          if val > current.info:\n",
        "            if current.right is None:\n",
        "              current.right = Node(val)\n",
        "              break\n",
        "            else:\n",
        "              current=current.right\n",
        "\n",
        "\n"
      ]
    },
    {
      "cell_type": "markdown",
      "source": [
        "**Another Solution: Insert into a Binary Search Tree**"
      ],
      "metadata": {
        "id": "Xl1KWE_ZIyPE"
      }
    },
    {
      "cell_type": "code",
      "source": [
        "# Definition for a binary tree node.\n",
        "class TreeNode:\n",
        "    def __init__(self, val=0, left=None, right=None):\n",
        "        self.val = val\n",
        "        self.left = left\n",
        "        self.right = right\n",
        "class Solution:\n",
        "    def insertIntoBST(self, root, val: int) -> [TreeNode]:\n",
        "        if not root:\n",
        "            return TreeNode(val)\n",
        "        if val < root.val:\n",
        "            root.left = self.insertIntoBST(root.left, val)\n",
        "        else:\n",
        "            root.right = self.insertIntoBST(root.right, val)\n",
        "        return root"
      ],
      "metadata": {
        "id": "4CBqnchGIztq"
      },
      "execution_count": null,
      "outputs": []
    },
    {
      "cell_type": "markdown",
      "source": [
        "**Invert Binary Tree**"
      ],
      "metadata": {
        "id": "6U5pXU9IJl-k"
      }
    },
    {
      "cell_type": "code",
      "source": [
        "# Definition for a binary tree node.\n",
        "# class TreeNode:\n",
        "#     def __init__(self, val=0, left=None, right=None):\n",
        "#         self.val = val\n",
        "#         self.left = left\n",
        "#         self.right = right\n",
        "class Solution:\n",
        "    def invertTree(self, root) -> [TreeNode]:\n",
        "        if not root:\n",
        "            return None\n",
        "        root.left,root.right=root.right,root.left\n",
        "        self.invertTree(root.left)\n",
        "        self.invertTree(root.right)\n",
        "        return root"
      ],
      "metadata": {
        "id": "Y_Ll2oyLSK3s"
      },
      "execution_count": null,
      "outputs": []
    },
    {
      "cell_type": "markdown",
      "source": [
        "**Same Tree**\n",
        "\n",
        "Given the roots of two binary trees p and q, write a function to check if they are the same or not."
      ],
      "metadata": {
        "id": "-qzIPfPDaM8H"
      }
    },
    {
      "cell_type": "code",
      "source": [
        "# Definition for a binary tree node.\n",
        "# class TreeNode:\n",
        "#     def __init__(self, val=0, left=None, right=None):\n",
        "#         self.val = val\n",
        "#         self.left = left\n",
        "#         self.right = right\n",
        "class Solution:\n",
        "    def isSameTree(self, p: Optional[TreeNode], q: Optional[TreeNode]) -> bool:\n",
        "        if p is None and q is None:\n",
        "            return True\n",
        "        if p is None or q is None:\n",
        "            return False\n",
        "        return (p.val == q.val) and self.isSameTree(p.left,q.left) and self.isSameTree(p.right,q.right)"
      ],
      "metadata": {
        "id": "xldWI5tGaNhB"
      },
      "execution_count": null,
      "outputs": []
    },
    {
      "cell_type": "markdown",
      "metadata": {
        "id": "eBNDk0AEwpPV"
      },
      "source": [
        "## Searching Algorithms\n"
      ]
    },
    {
      "cell_type": "code",
      "execution_count": null,
      "metadata": {
        "colab": {
          "base_uri": "https://localhost:8080/"
        },
        "id": "tW5uS8aLTKpT",
        "outputId": "b9dbc633-5182-4139-8588-e15078e70d56"
      },
      "outputs": [
        {
          "name": "stdout",
          "output_type": "stream",
          "text": [
            "5\n",
            "5\n"
          ]
        }
      ],
      "source": [
        "def binary_search(arr,item):\n",
        "  arr.sort()\n",
        "  l_index=0\n",
        "  r_index=len(arr)-1\n",
        "\n",
        "  while l_index <= r_index:\n",
        "    mid = l_index + ( r_index - l_index) // 2\n",
        "    mid_value=arr[mid]\n",
        "    if mid_value==item:\n",
        "      return mid\n",
        "    elif item < mid_value:\n",
        "      r_index=mid-1\n",
        "    else:\n",
        "      l_index=mid+1\n",
        "\n",
        "  return None\n",
        "\n",
        "arr=[1,2,8,6,5,4,9,14,56,86]\n",
        "arr.sort()\n",
        "print(arr.index(8))\n",
        "print(binary_search(arr,8))\n",
        "\n",
        "\n"
      ]
    },
    {
      "cell_type": "code",
      "execution_count": null,
      "metadata": {
        "id": "dsjUSPGz4bkT"
      },
      "outputs": [],
      "source": []
    }
  ],
  "metadata": {
    "colab": {
      "provenance": [],
      "authorship_tag": "ABX9TyOXPjoHegXSWbUnTVw6+LG2",
      "include_colab_link": true
    },
    "kernelspec": {
      "display_name": "Python 3",
      "name": "python3"
    },
    "language_info": {
      "name": "python"
    }
  },
  "nbformat": 4,
  "nbformat_minor": 0
}